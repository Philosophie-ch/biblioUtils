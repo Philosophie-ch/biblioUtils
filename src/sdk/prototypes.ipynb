{
 "cells": [
  {
   "cell_type": "code",
   "execution_count": 1,
   "metadata": {},
   "outputs": [],
   "source": [
    "from pipe import pipe, pipe_out"
   ]
  },
  {
   "cell_type": "code",
   "execution_count": 2,
   "metadata": {},
   "outputs": [],
   "source": [
    "res = pipe(1) >> (lambda x: x + 1) >> (lambda x: x * 2) >> pipe_out"
   ]
  },
  {
   "cell_type": "code",
   "execution_count": 3,
   "metadata": {},
   "outputs": [
    {
     "data": {
      "text/plain": [
       "int"
      ]
     },
     "execution_count": 3,
     "metadata": {},
     "output_type": "execute_result"
    }
   ],
   "source": [
    "res.__class__"
   ]
  },
  {
   "cell_type": "code",
   "execution_count": 4,
   "metadata": {},
   "outputs": [],
   "source": [
    "res = (pipe(3)\n",
    "       >> (lambda x: x + 1)\n",
    "       >> (lambda x: x * 2)\n",
    "       >> pipe_out\n",
    "    )\n"
   ]
  },
  {
   "cell_type": "code",
   "execution_count": 5,
   "metadata": {},
   "outputs": [
    {
     "data": {
      "text/plain": [
       "int"
      ]
     },
     "execution_count": 5,
     "metadata": {},
     "output_type": "execute_result"
    }
   ],
   "source": [
    "res.__class__"
   ]
  },
  {
   "cell_type": "code",
   "execution_count": 6,
   "metadata": {},
   "outputs": [],
   "source": [
    "from ResultMonad import try_except_wrapper, funwrap\n",
    "from utils import get_logger\n",
    "\n",
    "lgr = get_logger(\"pipe test\")"
   ]
  },
  {
   "cell_type": "code",
   "execution_count": 7,
   "metadata": {},
   "outputs": [],
   "source": [
    "@try_except_wrapper(lgr)\n",
    "def f(x):\n",
    "    return x + 1\n",
    "\n",
    "@try_except_wrapper(lgr)\n",
    "def g(x):\n",
    "    raise ValueError(\"g error\")\n",
    "\n",
    "@try_except_wrapper(lgr)\n",
    "def h(x):\n",
    "    raise ValueError(\"h error\")"
   ]
  },
  {
   "cell_type": "code",
   "execution_count": 8,
   "metadata": {},
   "outputs": [
    {
     "data": {
      "text/plain": [
       "3"
      ]
     },
     "execution_count": 8,
     "metadata": {},
     "output_type": "execute_result"
    }
   ],
   "source": [
    "pipe(1) >> funwrap(f) >> funwrap(f) >> pipe_out"
   ]
  },
  {
   "cell_type": "code",
   "execution_count": 9,
   "metadata": {},
   "outputs": [
    {
     "name": "stderr",
     "output_type": "stream",
     "text": [
      "2024-11-03 14:52:31 - pipe test - ERROR - An error occurred in function 'g'. Detail:\n",
      "g error\n",
      "2024-11-03 14:52:31 - pipe test - ERROR - An error occurred in function 'f'. Detail:\n",
      "unsupported operand type(s) for +: 'Err' and 'int'\n"
     ]
    }
   ],
   "source": [
    "res = pipe(1) >> f >> g >> f >> pipe_out"
   ]
  },
  {
   "cell_type": "code",
   "execution_count": 10,
   "metadata": {},
   "outputs": [
    {
     "data": {
      "text/plain": [
       "Err(message=\"An error occurred in function 'f'. Detail: unsupported operand type(s) for +: 'Err' and 'int'\", code=-1)"
      ]
     },
     "execution_count": 10,
     "metadata": {},
     "output_type": "execute_result"
    }
   ],
   "source": [
    "res"
   ]
  },
  {
   "cell_type": "code",
   "execution_count": null,
   "metadata": {},
   "outputs": [],
   "source": []
  }
 ],
 "metadata": {
  "kernelspec": {
   "display_name": ".venv",
   "language": "python",
   "name": "python3"
  },
  "language_info": {
   "codemirror_mode": {
    "name": "ipython",
    "version": 3
   },
   "file_extension": ".py",
   "mimetype": "text/x-python",
   "name": "python",
   "nbconvert_exporter": "python",
   "pygments_lexer": "ipython3",
   "version": "3.11.2"
  }
 },
 "nbformat": 4,
 "nbformat_minor": 2
}

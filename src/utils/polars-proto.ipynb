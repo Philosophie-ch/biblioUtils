{
 "cells": [
  {
   "cell_type": "code",
   "execution_count": 51,
   "metadata": {},
   "outputs": [],
   "source": [
    "import polars as pl"
   ]
  },
  {
   "cell_type": "code",
   "execution_count": 52,
   "metadata": {},
   "outputs": [],
   "source": [
    "filename = \"../../data/dltc-biblio/nameblock-replacement-table.ods\""
   ]
  },
  {
   "cell_type": "code",
   "execution_count": 53,
   "metadata": {},
   "outputs": [],
   "source": [
    "rt = pl.read_ods(filename, has_header=False)\n",
    "rt.columns = [\"nameblock\", \"id\"]"
   ]
  },
  {
   "cell_type": "code",
   "execution_count": 54,
   "metadata": {},
   "outputs": [],
   "source": [
    "filename2 = \"../../data/dltc-biblio/biblio-v1-csv.ods\"\n",
    "\n",
    "data_raw = pl.read_ods(filename2)"
   ]
  },
  {
   "cell_type": "code",
   "execution_count": 55,
   "metadata": {},
   "outputs": [],
   "source": [
    "data = data_raw[1:]\n",
    "data.columns = data_raw.row(0)"
   ]
  },
  {
   "cell_type": "code",
   "execution_count": 59,
   "metadata": {},
   "outputs": [],
   "source": [
    "#data.columns"
   ]
  },
  {
   "cell_type": "code",
   "execution_count": 57,
   "metadata": {},
   "outputs": [],
   "source": [
    "my_dict = {}\n",
    "for i, row in enumerate(data.iter_rows()):\n",
    "    my_dict[f\"{row[3]}\"] = f\"{row[2]}\"\n",
    "    if i > 10:\n",
    "        break"
   ]
  },
  {
   "cell_type": "code",
   "execution_count": 60,
   "metadata": {},
   "outputs": [
    {
     "data": {
      "text/plain": [
       "{'aagaardmogensen-forsey:2019': '@book{',\n",
       " 'aagaardolesen:2000': '@incollection{',\n",
       " 'aagaardolesen:2005': '@incollection{',\n",
       " 'aagaardolesen:2005a': '@incollection{',\n",
       " 'aagaardolesen:2009': '@incollection{',\n",
       " 'aaij_m-godlove:2020': '@book{',\n",
       " 'aaker:1981': '@book{',\n",
       " 'aalbers:2016': '@incollection{',\n",
       " 'aalders-deblois:1992': '@incollection{',\n",
       " 'aall:1925': '@article{',\n",
       " 'aaltola_e:2010': '@incollection{',\n",
       " 'aaltola_e:2012': '@book{'}"
      ]
     },
     "execution_count": 60,
     "metadata": {},
     "output_type": "execute_result"
    }
   ],
   "source": [
    "my_dict"
   ]
  }
 ],
 "metadata": {
  "kernelspec": {
   "display_name": ".venv",
   "language": "python",
   "name": "python3"
  },
  "language_info": {
   "codemirror_mode": {
    "name": "ipython",
    "version": 3
   },
   "file_extension": ".py",
   "mimetype": "text/x-python",
   "name": "python",
   "nbconvert_exporter": "python",
   "pygments_lexer": "ipython3",
   "version": "3.13.0"
  }
 },
 "nbformat": 4,
 "nbformat_minor": 2
}

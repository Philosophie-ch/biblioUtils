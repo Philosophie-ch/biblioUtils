{
 "cells": [
  {
   "cell_type": "code",
   "execution_count": 224,
   "metadata": {},
   "outputs": [],
   "source": [
    "import mistune\n",
    "import re\n",
    "from typing import List\n",
    "from pprint import pprint\n",
    "\n",
    "def read_file(file_path: str) -> str:\n",
    "    with open(file_path, 'r', encoding='utf-8') as f:\n",
    "        md = f.read()\n",
    "    return md\n",
    "\n",
    "\n",
    "def remove_yaml_front_matter(content: str) -> str:\n",
    "    if content.startswith('---'):\n",
    "        # Split YAML front matter from the rest of the content\n",
    "        yaml_delimiter = content.find('\\n---', 3)  # Look for the closing '---'\n",
    "        if yaml_delimiter != -1:\n",
    "            return content[yaml_delimiter + 3:].lstrip()  # Strip YAML block\n",
    "        elif yaml_delimiter := content.find('\\n...', 3):\n",
    "            if yaml_delimiter != -1:\n",
    "                return content[yaml_delimiter + 3:].lstrip()\n",
    "    return content"
   ]
  },
  {
   "cell_type": "code",
   "execution_count": 225,
   "metadata": {},
   "outputs": [],
   "source": [
    "dltc_md = '../../data/dltc-workhouse/2020/2020-01-issue/02-conitzer/conitzer-2020.md'\n",
    "md = read_file(dltc_md)\n",
    "#print(repr(md[:4000]))\n",
    "md_wo_yaml = remove_yaml_front_matter(md)\n",
    "\n",
    "#print(md[:4000])\n",
    "#print(md_wo_yaml[:4000])"
   ]
  },
  {
   "cell_type": "code",
   "execution_count": 226,
   "metadata": {},
   "outputs": [],
   "source": [
    "def get_text_bits(md_content: str, parser: mistune.Markdown) -> tuple[str]:\n",
    "\n",
    "    tokens = parser.parse(md_content)\n",
    "\n",
    "    children_nested = (token.get('children') for token in tokens[0] if token.get('children') is not None)\n",
    "\n",
    "    children = (item for sublist in children_nested for item in sublist)\n",
    "\n",
    "    text_bits = tuple(c.get('raw') for c in children if c.get('raw') is not None)\n",
    "\n",
    "    return text_bits\n"
   ]
  },
  {
   "cell_type": "code",
   "execution_count": 227,
   "metadata": {},
   "outputs": [
    {
     "name": "stdout",
     "output_type": "stream",
     "text": [
      "In a series of unconventional but lucid works, Caspar Hare has laid out\n",
      "and defended a theory of \n",
      " (or, in his more recent\n",
      "work, \n",
      "), in which a distinguished individual's\n",
      "experiences are \n",
      " in a way that the experiences of others are\n",
      "not \n",
      "[\n",
      "-@hare_c:2007; -@hare_c:2009; -@hare_c:2010a]. Closely related ideas\n"
     ]
    }
   ],
   "source": [
    "parser = mistune.create_markdown(renderer=\"ast\")\n",
    "\n",
    "text_bits = get_text_bits(md_wo_yaml, parser)\n",
    "\n",
    "for t in text_bits[:10]:\n",
    "    print(t)\n"
   ]
  },
  {
   "cell_type": "code",
   "execution_count": 228,
   "metadata": {},
   "outputs": [],
   "source": [
    "citation_pattern = re.compile(\n",
    "    r'(?<!\\w)\\[?([-]?)@{?([a-zA-Z0-9_.:$/%&+?<>~#-]+)}?(?:,?\\s*(pp?\\.\\s[^\\];]+|sec\\.\\s[^\\];]+|chap\\.\\s[^\\];]+)?)?(?:,\\s*([^\\];]+))?\\]?'\n",
    ")"
   ]
  },
  {
   "cell_type": "code",
   "execution_count": null,
   "metadata": {},
   "outputs": [],
   "source": [
    "def get_citations(text_bits: List[str], citation_pattern: re.Pattern) -> List[dict]:\n",
    "    citations = []\n",
    "\n",
    "    # Iterate through tokens to find citations in text content\n",
    "    for t in text_bits:\n",
    "        matches = citation_pattern.findall(t)\n",
    "        for match in matches:\n",
    "            # Structure: (author_suppression, bibkey, locator, suffix)\n",
    "            citation_info = {\n",
    "                \"suppress_author\": match[0] == \"-\",\n",
    "                \"bibkey\": match[1],\n",
    "                \"locator\": match[2] or None,\n",
    "                \"suffix\": match[3] or None,\n",
    "            }\n",
    "            citations.append(citation_info)\n",
    "\n",
    "    return citations\n",
    "\n",
    "citations = get_citations(text_bits)\n",
    "\n",
    "\n",
    "def get_keys(citations: List[dict]) -> tuple[set[str], set[str], set[str]]:\n",
    "\n",
    "    all_keys = {c.get('bibkey') for c in citations}\n",
    "\n",
    "    non_keys = {n for n in all_keys if not \":\" in n or n.startswith(\"sec\")}\n",
    "\n",
    "    apparent_keys = all_keys - non_keys\n",
    "\n",
    "    return all_keys, non_keys, apparent_keys\n",
    "\n",
    "\n",
    "def biblio_keys(keys: set[str], all_bibkeys: tuple[str]) -> tuple[set[str], set[str]]:\n",
    "\n",
    "    bibkeys = {bk for bk in keys if bk in all_bibkeys}\n",
    "\n",
    "    non_bibkeys = keys - bibkeys\n",
    "\n",
    "    return bibkeys, non_bibkeys\n"
   ]
  },
  {
   "cell_type": "code",
   "execution_count": 230,
   "metadata": {},
   "outputs": [
    {
     "name": "stdout",
     "output_type": "stream",
     "text": [
      "NON KEYS\n",
      "\n",
      "{'s-1',\n",
      " 's-2',\n",
      " 'sec:appropriateness',\n",
      " 'sec:direction',\n",
      " 'sec:presence',\n",
      " 'sec:rate',\n",
      " 'sec:relativity',\n",
      " 'sec:revisiting',\n",
      " 'sec:revisiting2',\n",
      " 'sec:travel',\n",
      " 'sec:versions'}\n",
      "\n",
      "\n",
      "APPARENT KEYS\n",
      "\n",
      "['hare_c:2007',\n",
      " 'valberg_jj:2007',\n",
      " 'prior_an:1959',\n",
      " 'zimmerman_dw:2007b',\n",
      " 'skow:2012a.',\n",
      " 'putnam_h:1967c',\n",
      " 'olson_et:2009a',\n",
      " 'suhler_c-callender:2012',\n",
      " 'skow:2009',\n",
      " 'turri:2013d']\n"
     ]
    }
   ],
   "source": [
    "all_keys, non_keys, apparent_keys = get_keys(citations)\n",
    "\n",
    "print(\"NON KEYS\\n\")\n",
    "pprint(non_keys)\n",
    "print(\"\\n\\nAPPARENT KEYS\\n\")\n",
    "pprint(list(apparent_keys)[:10])"
   ]
  },
  {
   "cell_type": "code",
   "execution_count": 231,
   "metadata": {},
   "outputs": [
    {
     "name": "stdout",
     "output_type": "stream",
     "text": [
      "\n",
      "\n",
      "BIBKEYS\n",
      "\n",
      "{'skow:2009', 'hare_c:2007'}\n",
      "\n",
      "\n",
      "NON BIBKEYS\n",
      "\n",
      "['valberg_jj:2007',\n",
      " 'prior_an:1959',\n",
      " 'zimmerman_dw:2007b',\n",
      " 'skow:2012a.',\n",
      " 'putnam_h:1967c',\n",
      " 'olson_et:2009a',\n",
      " 'suhler_c-callender:2012',\n",
      " 'caruso_em-etal:2008',\n",
      " 'turri:2013d',\n",
      " 'fine_k:2005e']\n"
     ]
    }
   ],
   "source": [
    "all_bibkeys = (\"hare_c:2007\", \"skow:2009\")\n",
    "\n",
    "bibkeys, non_bibkeys = biblio_keys(apparent_keys, all_bibkeys)\n",
    "\n",
    "print(\"\\n\\nBIBKEYS\\n\")\n",
    "pprint(bibkeys)\n",
    "print(\"\\n\\nNON BIBKEYS\\n\")\n",
    "pprint(list(non_bibkeys)[:10])"
   ]
  },
  {
   "cell_type": "code",
   "execution_count": null,
   "metadata": {},
   "outputs": [],
   "source": []
  },
  {
   "cell_type": "code",
   "execution_count": null,
   "metadata": {},
   "outputs": [
    {
     "ename": "TypeError",
     "evalue": "unhashable type: 'dict'",
     "output_type": "error",
     "traceback": [
      "\u001b[0;31m---------------------------------------------------------------------------\u001b[0m",
      "\u001b[0;31mTypeError\u001b[0m                                 Traceback (most recent call last)",
      "Cell \u001b[0;32mIn[234], line 2\u001b[0m\n\u001b[1;32m      1\u001b[0m d \u001b[38;5;241m=\u001b[39m {\n\u001b[0;32m----> 2\u001b[0m     {x: \u001b[38;5;124m\"\u001b[39m\u001b[38;5;124ma\u001b[39m\u001b[38;5;124m\"\u001b[39m}\n\u001b[1;32m      3\u001b[0m     \u001b[38;5;28;01mfor\u001b[39;00m x \u001b[38;5;129;01min\u001b[39;00m \u001b[38;5;28mrange\u001b[39m(\u001b[38;5;241m10\u001b[39m)\n\u001b[1;32m      4\u001b[0m }\n",
      "\u001b[0;31mTypeError\u001b[0m: unhashable type: 'dict'"
     ]
    }
   ],
   "source": [
    "d = {\n",
    "    x: \"a\"\n",
    "    for x in range(10)\n",
    "}"
   ]
  },
  {
   "cell_type": "code",
   "execution_count": 235,
   "metadata": {},
   "outputs": [],
   "source": [
    "from src.sdk.utils import remove_extra_whitespace\n",
    "from pathlib import Path\n",
    "\n",
    "def gen_dltc_filename(\n",
    "    path: Path\n",
    ") -> str:\n",
    "    stem = path.stem\n",
    "    stripped = remove_extra_whitespace(stem)\n",
    "\n",
    "    # Replace the last occurrence of \"-\" with \":\"\n",
    "    last_hyphen = stripped.rfind(\"-\")\n",
    "\n",
    "    if last_hyphen != -1:\n",
    "        return f\"{stripped[:last_hyphen]}:{stripped[last_hyphen + 1:]}\"\n",
    "    else:\n",
    "        return stripped\n"
   ]
  },
  {
   "cell_type": "code",
   "execution_count": 236,
   "metadata": {},
   "outputs": [],
   "source": [
    "root_path = Path(\"../../data/dltc-workhouse\")\n",
    "all_mds = list(root_path.rglob(\"*.md\"))\n",
    "\n"
   ]
  },
  {
   "cell_type": "code",
   "execution_count": 238,
   "metadata": {},
   "outputs": [],
   "source": [
    "dltc_filenames = {gen_dltc_filename(p) for p in all_mds}"
   ]
  },
  {
   "cell_type": "code",
   "execution_count": 242,
   "metadata": {},
   "outputs": [],
   "source": [
    "found = ('licon-2023', 'contu-2023', 'nolan_dp-2023', 'ketland-2023', 'guengoer-2023', 'smit_jp-buekens-2023', 'spohn-2023', 'miller_k-2023', 'rooney_jd-2023', 'zhang_l-horsten-2023', 'simsek_m-2023', 'oconaill_d-pearson-2023', 'billon_a-2023', 'kappes_y-2023', 'janssenlauret-2023', 'leuenberger_s-2023', 'patterson_a-2023', 'pagano_e-2023', 'galli_s-2023', 'humbertdroz-2023', 'baehni_a-2023', 'lanzet_r-2023', 'simon_jon-2023', 'deflorio-frigerio-2023', 'nicolas_d-2021', 'weintraub_r-2021', 'schneider_le-2021', 'laasik-2021', 'vanrie-vandyck-2021', 'burnston-2021', 'caputo_s-2021', 'andow_j-2021', 'berghofer_p-2021', 'dees_mk-2021', 'paterson_n-2021', 'mueller_jm-2021', 'francescotti-2021', 'milona-2021', 'krstic-2021', 'cohnitz-nicolai-2021', 'coates_as-2021', 'melchior-2021', 'warren_ja-2021', 'ronnowrasmussen-2021a', 'gessell_b-2021', 'sekatskaya-schurz-2021', 'pismenny-2021', 'schwabe_u-2021', 'muehlebach_d-2021', 'nicolas_d-2021', 'djordjevic-2020', 'reinmuth_f-2020', 'dicher-2020c', 'benyami-2020', 'cook_rt-2020', 'kim_jo-2020', 'michels_r-2020', 'sagi_gi-2020', 'liberman_a-2020', 'donaldson_t-2020', 'stevens_g-2020', 'cox_r-2020', 'finocchiaro_p-2020', 'macbride-2020', 'blum_ph-2020', 'roelofs_l-2020', 'schaerli_m-2020', 'elzein-2020', 'taieb_h-2020', 'goh_hxj-2020', 'oconaill_d-2020', 'conitzer-2020', 'daoust_mk-2020a', 'wilson_al-2020b', 'daly_ch-2020', 'baratella_r-2020', 'zimmerman_dw-2020', 'dixon_j-2020', 'muller_fa-2020', 'campdelacreu-etal-2020', 'stephenson_a-2020', 'morvarid_m-2020', 'vollet_jh-2020', 'felka-2022', 'andreas-guenther-2022', 'stemeroff-2022', 'billon_a-vellozzo-2022', 'solomyak-2022', 'bernath_l-paar-2022', 'schuman_bf-2022', 'irikefe-2022', 'winokur-2022', 'marshall_d-2022', 'sheng_ee-2022', 'fischer_s-2022', 'mizrahi_v-2022', 'busse_r-2022', 'dixon_s-2022', 'zalta-2022', 'orilia-2022', 'plate_j-2022', 'macbride-2022', 'macbride-orilia-2022', 'leo_j-2022')\n",
    "\n"
   ]
  },
  {
   "cell_type": "code",
   "execution_count": 246,
   "metadata": {},
   "outputs": [
    {
     "data": {
      "text/plain": [
       "['andow_j-2021',\n",
       " 'andreas-guenther-2022',\n",
       " 'baehni_a-2023',\n",
       " 'baratella_r-2020',\n",
       " 'benyami-2020',\n",
       " 'berghofer_p-2021',\n",
       " 'bernath_l-paar-2022',\n",
       " 'billon_a-2023',\n",
       " 'billon_a-vellozzo-2022',\n",
       " 'blum_ph-2020',\n",
       " 'burnston-2021',\n",
       " 'busse_r-2022',\n",
       " 'campdelacreu-etal-2020',\n",
       " 'caputo_s-2021',\n",
       " 'coates_as-2021',\n",
       " 'cohnitz-nicolai-2021',\n",
       " 'conitzer-2020',\n",
       " 'contu-2023',\n",
       " 'cook_rt-2020',\n",
       " 'cox_r-2020',\n",
       " 'daly_ch-2020',\n",
       " 'daoust_mk-2020a',\n",
       " 'dees_mk-2021',\n",
       " 'deflorio-frigerio-2023',\n",
       " 'dicher-2020c',\n",
       " 'dixon_j-2020',\n",
       " 'dixon_s-2022',\n",
       " 'djordjevic-2020',\n",
       " 'donaldson_t-2020',\n",
       " 'elzein-2020',\n",
       " 'felka-2022',\n",
       " 'finocchiaro_p-2020',\n",
       " 'fischer_s-2022',\n",
       " 'francescotti-2021',\n",
       " 'galli_s-2023',\n",
       " 'gessell_b-2021',\n",
       " 'goh_hxj-2020',\n",
       " 'guengoer-2023',\n",
       " 'humbertdroz-2023',\n",
       " 'irikefe-2022',\n",
       " 'janssenlauret-2023',\n",
       " 'kappes_y-2023',\n",
       " 'ketland-2023',\n",
       " 'kim_jo-2020',\n",
       " 'krstic-2021',\n",
       " 'laasik-2021',\n",
       " 'lanzet_r-2023',\n",
       " 'leo_j-2022',\n",
       " 'leuenberger_s-2023',\n",
       " 'liberman_a-2020',\n",
       " 'licon-2023',\n",
       " 'macbride-2020',\n",
       " 'macbride-2022',\n",
       " 'macbride-orilia-2022',\n",
       " 'marshall_d-2022',\n",
       " 'melchior-2021',\n",
       " 'michels_r-2020',\n",
       " 'miller_k-2023',\n",
       " 'milona-2021',\n",
       " 'mizrahi_v-2022',\n",
       " 'morvarid_m-2020',\n",
       " 'muehlebach_d-2021',\n",
       " 'mueller_jm-2021',\n",
       " 'muller_fa-2020',\n",
       " 'nicolas_d-2021',\n",
       " 'nicolas_d-2021',\n",
       " 'nolan_dp-2023',\n",
       " 'oconaill_d-2020',\n",
       " 'oconaill_d-pearson-2023',\n",
       " 'orilia-2022',\n",
       " 'pagano_e-2023',\n",
       " 'paterson_n-2021',\n",
       " 'patterson_a-2023',\n",
       " 'pismenny-2021',\n",
       " 'plate_j-2022',\n",
       " 'reinmuth_f-2020',\n",
       " 'roelofs_l-2020',\n",
       " 'ronnowrasmussen-2021a',\n",
       " 'rooney_jd-2023',\n",
       " 'sagi_gi-2020',\n",
       " 'schaerli_m-2020',\n",
       " 'schneider_le-2021',\n",
       " 'schuman_bf-2022',\n",
       " 'schwabe_u-2021',\n",
       " 'sekatskaya-schurz-2021',\n",
       " 'sheng_ee-2022',\n",
       " 'simon_jon-2023',\n",
       " 'simsek_m-2023',\n",
       " 'smit_jp-buekens-2023',\n",
       " 'solomyak-2022',\n",
       " 'spohn-2023',\n",
       " 'stemeroff-2022',\n",
       " 'stephenson_a-2020',\n",
       " 'stevens_g-2020',\n",
       " 'taieb_h-2020',\n",
       " 'vanrie-vandyck-2021',\n",
       " 'vollet_jh-2020',\n",
       " 'warren_ja-2021',\n",
       " 'weintraub_r-2021',\n",
       " 'wilson_al-2020b',\n",
       " 'winokur-2022',\n",
       " 'zalta-2022',\n",
       " 'zhang_l-horsten-2023',\n",
       " 'zimmerman_dw-2020']"
      ]
     },
     "execution_count": 246,
     "metadata": {},
     "output_type": "execute_result"
    }
   ],
   "source": [
    "sorted(found)"
   ]
  }
 ],
 "metadata": {
  "kernelspec": {
   "display_name": ".venv",
   "language": "python",
   "name": "python3"
  },
  "language_info": {
   "codemirror_mode": {
    "name": "ipython",
    "version": 3
   },
   "file_extension": ".py",
   "mimetype": "text/x-python",
   "name": "python",
   "nbconvert_exporter": "python",
   "pygments_lexer": "ipython3",
   "version": "3.13.0"
  }
 },
 "nbformat": 4,
 "nbformat_minor": 2
}

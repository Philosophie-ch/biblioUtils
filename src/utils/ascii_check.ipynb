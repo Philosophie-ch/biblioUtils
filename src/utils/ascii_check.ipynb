{
 "cells": [
  {
   "cell_type": "code",
   "execution_count": 18,
   "metadata": {},
   "outputs": [],
   "source": [
    "ASCII_CHARS = ['!', '\"', '#', '$', '%', '&', '\\'', '(', ')', '*', '+', ',', '-', '.', '/', '0', '1', '2', '3', '4', '5', '6', '7', '8', '9', ':', ';', '<', '=', '>', '?', '@', 'A', 'B', 'C', 'D', 'E', 'F', 'G', 'H', 'I', 'J', 'K', 'L', 'M', 'N', 'O', 'P', 'Q', 'R', 'S', 'T', 'U', 'V', 'W', 'X', 'Y', 'Z', '[', '\\\\', ']', '^', '_', '`', 'a', 'b', 'c', 'd', 'e', 'f', 'g', 'h', 'i', 'j', 'k', 'l', 'm', 'n', 'o', 'p', 'q', 'r', 's', 't', 'u', 'v', 'w', 'x', 'y', 'z', '{', '|', '}', '~', ' ', ',', '-', '.']"
   ]
  },
  {
   "cell_type": "code",
   "execution_count": 19,
   "metadata": {},
   "outputs": [],
   "source": [
    "input_file = '2024-10-18-all.csv'\n"
   ]
  },
  {
   "cell_type": "code",
   "execution_count": 20,
   "metadata": {},
   "outputs": [],
   "source": [
    "import csv"
   ]
  },
  {
   "cell_type": "code",
   "execution_count": 21,
   "metadata": {},
   "outputs": [],
   "source": [
    "# parse csv\n",
    "\n",
    "def parse_csv(input_file, encoding):\n",
    "    with open(input_file, 'r', encoding = encoding) as f:\n",
    "        reader = csv.reader(f)\n",
    "        for row in reader:\n",
    "            yield row"
   ]
  },
  {
   "cell_type": "code",
   "execution_count": 22,
   "metadata": {},
   "outputs": [],
   "source": [
    "# check if string contains characters NOT in ASCII_CHARS\n",
    "def not_in_ASCII_CHARS(string):\n",
    "    non_ascii = []\n",
    "    flag = False\n",
    "    for char in string:\n",
    "        if char not in ASCII_CHARS:\n",
    "            non_ascii.append(char)\n",
    "            flag = True\n",
    "\n",
    "    unique_non_ascii = list(set(non_ascii))\n",
    "            \n",
    "    return (flag, unique_non_ascii)"
   ]
  },
  {
   "cell_type": "code",
   "execution_count": 23,
   "metadata": {},
   "outputs": [],
   "source": [
    "def process_and_print_to_file(input_file, output_file, encoding):\n",
    "\n",
    "    with open(output_file, 'w', newline='', encoding=encoding) as csvfile:\n",
    "        writer = csv.writer(csvfile)\n",
    "\n",
    "        for row in parse_csv(input_file, encoding):\n",
    "            # only in column called \"value\"\n",
    "            flag, charlist = not_in_ASCII_CHARS(''.join(row))\n",
    "            charlist_view = [f\"[[ {char} ]]\" for char in charlist]\n",
    "            writer.writerow([' '.join(charlist_view)])\n",
    "\n"
   ]
  },
  {
   "cell_type": "code",
   "execution_count": 24,
   "metadata": {},
   "outputs": [],
   "source": [
    "output_file = '2024-10-18-all-ascii.csv'\n",
    "\n",
    "process_and_print_to_file(input_file, output_file, 'utf-16')"
   ]
  },
  {
   "cell_type": "code",
   "execution_count": null,
   "metadata": {},
   "outputs": [],
   "source": []
  }
 ],
 "metadata": {
  "kernelspec": {
   "display_name": ".venv",
   "language": "python",
   "name": "python3"
  },
  "language_info": {
   "codemirror_mode": {
    "name": "ipython",
    "version": 3
   },
   "file_extension": ".py",
   "mimetype": "text/x-python",
   "name": "python",
   "nbconvert_exporter": "python",
   "pygments_lexer": "ipython3",
   "version": "3.11.2"
  }
 },
 "nbformat": 4,
 "nbformat_minor": 2
}

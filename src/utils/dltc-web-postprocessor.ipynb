{
 "cells": [
  {
   "cell_type": "code",
   "execution_count": 56,
   "metadata": {},
   "outputs": [],
   "source": [
    "import sys\n",
    "sys.path.append('../..')\n"
   ]
  },
  {
   "cell_type": "code",
   "execution_count": 57,
   "metadata": {},
   "outputs": [],
   "source": [
    "from bs4 import BeautifulSoup\n",
    "\n"
   ]
  },
  {
   "cell_type": "code",
   "execution_count": 58,
   "metadata": {},
   "outputs": [],
   "source": [
    "example_article = \"/home/alebg/philosophie-ch/dltc-web-compilation/2020/2020-01-issue/conitzer-2020.html\"\n",
    "\n",
    "with open(example_article) as f:\n",
    "    example_content = f.read()"
   ]
  },
  {
   "cell_type": "code",
   "execution_count": 59,
   "metadata": {},
   "outputs": [],
   "source": [
    "def fix_footnotes(file_content: str) -> str:\n",
    "    soup = BeautifulSoup(file_content, 'html.parser')\n",
    "    footnotes = soup.find('section', id='footnotes')\n",
    "    if footnotes:\n",
    "        # replace the \"section\" tag by \"aside\"\n",
    "        footnotes.name = 'aside'\n",
    "\n",
    "    # return the modified content\n",
    "    return str(soup)"
   ]
  },
  {
   "cell_type": "code",
   "execution_count": 60,
   "metadata": {},
   "outputs": [],
   "source": [
    "fixed = fix_footnotes(example_content)\n",
    "\n",
    "#print(fixed)"
   ]
  },
  {
   "cell_type": "code",
   "execution_count": 61,
   "metadata": {},
   "outputs": [],
   "source": [
    "def remove_references(file_content: str) -> str:\n",
    "    soup = BeautifulSoup(file_content, 'html.parser')\n",
    "\n",
    "    references = soup.find('div', id=\"c1-refs\")\n",
    "    if references:\n",
    "        references.decompose()\n",
    "\n",
    "    references_header = soup.find('h1', string='References')\n",
    "    if references_header:\n",
    "        references_header.decompose()\n",
    "    \n",
    "    return str(soup)\n"
   ]
  },
  {
   "cell_type": "code",
   "execution_count": 62,
   "metadata": {},
   "outputs": [],
   "source": [
    "wo_refs = remove_references(fixed)\n",
    "\n",
    "#print(wo_refs)"
   ]
  },
  {
   "cell_type": "code",
   "execution_count": null,
   "metadata": {},
   "outputs": [],
   "source": []
  }
 ],
 "metadata": {
  "kernelspec": {
   "display_name": ".venv",
   "language": "python",
   "name": "python3"
  },
  "language_info": {
   "codemirror_mode": {
    "name": "ipython",
    "version": 3
   },
   "file_extension": ".py",
   "mimetype": "text/x-python",
   "name": "python",
   "nbconvert_exporter": "python",
   "pygments_lexer": "ipython3",
   "version": "3.13.0"
  }
 },
 "nbformat": 4,
 "nbformat_minor": 2
}

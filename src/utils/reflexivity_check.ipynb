{
 "cells": [
  {
   "cell_type": "code",
   "execution_count": 108,
   "metadata": {},
   "outputs": [],
   "source": [
    "import sys\n",
    "sys.path.append('../..')\n"
   ]
  },
  {
   "cell_type": "code",
   "execution_count": 109,
   "metadata": {},
   "outputs": [],
   "source": [
    "import csv\n",
    "from typing import Generator, Literal, Tuple, NamedTuple\n",
    "from src.sdk.utils import remove_extra_whitespace"
   ]
  },
  {
   "cell_type": "code",
   "execution_count": 110,
   "metadata": {},
   "outputs": [],
   "source": [
    "type TBibkey = str\n",
    "type TFurtherReferences = Tuple[TBibkey, ...]\n",
    "type TDependsOn = Tuple[TBibkey, ...]\n",
    "type TFurtherReferencesBad = str\n",
    "type TDependsOnBad = str\n",
    "\n",
    "class Bibentry(NamedTuple):\n",
    "    bibkey: TBibkey\n",
    "    title: str\n",
    "    notes: str\n",
    "    crossref: str\n",
    "    further_note: str\n",
    "    further_references_good: TFurtherReferences\n",
    "    further_references_bad: TFurtherReferencesBad\n",
    "    depends_on_good: TDependsOn\n",
    "    depends_on_bad: TDependsOnBad\n",
    "    bootstrap_status: str\n",
    "    bootstrap_error_message: str\n",
    "\n",
    "\n",
    "type TStatus = Literal[\"success\", \"error\", \"exception\"]\n",
    "type TMessage = str\n",
    "\n",
    "type TReport = Tuple[\n",
    "    Bibentry,\n",
    "    TStatus,\n",
    "    TMessage\n",
    "]\n"
   ]
  },
  {
   "cell_type": "code",
   "execution_count": 111,
   "metadata": {},
   "outputs": [],
   "source": [
    "def load_processed_bibentries_csv(filename: str, encoding: str) -> Generator[Bibentry, None, None]:\n",
    "\n",
    "    with open(filename, 'r', encoding=encoding) as csvfile:\n",
    "        csvreader = csv.DictReader(csvfile)\n",
    "        for row in csvreader:\n",
    "            further_references = tuple(\n",
    "                remove_extra_whitespace(row['further_references_good']).split(',')\n",
    "            )\n",
    "            depends_on = tuple(\n",
    "                remove_extra_whitespace(row['depends_on_good']).split(',')\n",
    "            )\n",
    "            yield Bibentry(\n",
    "                bibkey=row['bibkey'],\n",
    "                title=row['title'],\n",
    "                notes=row['notes'],\n",
    "                crossref=row['crossref'],\n",
    "                further_note=row['further_note'],\n",
    "                further_references_good=further_references,\n",
    "                further_references_bad=row['further_references_bad'],\n",
    "                depends_on_good=depends_on,\n",
    "                depends_on_bad=row['depends_on_bad'],\n",
    "                bootstrap_status=row['status'],\n",
    "                bootstrap_error_message=row['error_message']\n",
    "            )\n",
    "\n"
   ]
  },
  {
   "cell_type": "code",
   "execution_count": 112,
   "metadata": {},
   "outputs": [],
   "source": [
    "def validate_bibentry(bibentry: Bibentry) -> None:\n",
    "\n",
    "    validations = {\n",
    "        \"bibkey\": (isinstance(bibentry.bibkey, str) and bibentry.bibkey is not None, f\"bibkey should be a non-empty string, got {type(bibentry.bibkey)}\"),\n",
    "        \"further_references_bad\": (bibentry.further_references_bad == \"\" or bibentry.further_references_bad is None, f\"further_references_bad should be empty, got {bibentry.further_references_bad}\"),\n",
    "        \"depends_on_bad\": (bibentry.depends_on_bad == \"\" or bibentry.depends_on_bad is None, f\"depends_on_bad should be empty, got {bibentry.depends_on_bad}\"),\n",
    "    }\n",
    "\n",
    "    validation_message = \"\"\n",
    "    for key, (valid, message) in validations.items():\n",
    "        if not valid:\n",
    "            validation_message += f\"{key}: {message}\\n\"\n",
    "\n",
    "    if validation_message != \"\":\n",
    "        raise ValueError(validation_message)\n",
    "\n",
    "    return None"
   ]
  },
  {
   "cell_type": "code",
   "execution_count": 113,
   "metadata": {},
   "outputs": [],
   "source": [
    "def reflexive_bibentry(bibentry: Bibentry) -> bool:\n",
    "    \"\"\"\n",
    "    Returns true if the bibkey of the bibentry appears in either further_references_good or depends_on_good\n",
    "    \"\"\"\n",
    "    further_references = bibentry.further_references_good\n",
    "    depends_on = bibentry.depends_on_good\n",
    "    bibkey = bibentry.bibkey\n",
    "\n",
    "    return bibkey in further_references or bibkey in depends_on"
   ]
  },
  {
   "cell_type": "code",
   "execution_count": 114,
   "metadata": {},
   "outputs": [],
   "source": [
    "def process_bibentry(bibentry: Bibentry) -> TReport:\n",
    "    try:\n",
    "        validate_bibentry(bibentry)\n",
    "\n",
    "        if reflexive_bibentry(bibentry):\n",
    "            return (bibentry, \"error\", \"Reflexive bibentry\")\n",
    "\n",
    "        return (bibentry, \"success\", \"\")\n",
    "\n",
    "    except ValueError as e:\n",
    "        return (bibentry, \"error\", str(e))\n",
    "    \n",
    "    except Exception as e:\n",
    "        return (bibentry, \"exception\", str(e))"
   ]
  },
  {
   "cell_type": "code",
   "execution_count": 115,
   "metadata": {},
   "outputs": [],
   "source": [
    "def write_reports_to_csv(reports: Generator[TReport, None, None], filename: str, encoding: str) -> None:\n",
    "\n",
    "    with open(filename, 'w', encoding=encoding) as csvfile:\n",
    "        csvwriter = csv.writer(csvfile)\n",
    "        csvwriter.writerow([\n",
    "            \"bibkey\",\n",
    "            \"title\",\n",
    "            \"notes\",\n",
    "            \"crossref\",\n",
    "            \"further_note\",\n",
    "            \"further_references_good\",\n",
    "            \"further_references_bad\",\n",
    "            \"depends_on_good\",\n",
    "            \"depends_on_bad\",\n",
    "            \"bootstrap_status\",\n",
    "            \"bootstrap_error_message\",\n",
    "            \"status\",\n",
    "            \"message\",\n",
    "        ])\n",
    "\n",
    "        for bibentry, status, message in reports:\n",
    "            csvwriter.writerow([\n",
    "                bibentry.bibkey,\n",
    "                bibentry.title,\n",
    "                bibentry.notes,\n",
    "                bibentry.crossref,\n",
    "                bibentry.further_note,\n",
    "                \", \".join(bibentry.further_references_good),\n",
    "                bibentry.further_references_bad,\n",
    "                \", \".join(bibentry.depends_on_good),\n",
    "                bibentry.depends_on_bad,\n",
    "                bibentry.bootstrap_status,\n",
    "                bibentry.bootstrap_error_message,\n",
    "                status,\n",
    "                message,\n",
    "            ])"
   ]
  },
  {
   "cell_type": "code",
   "execution_count": 116,
   "metadata": {},
   "outputs": [],
   "source": [
    "bootstrap_filename = \"../../data/bootstrapped_bibentities.csv\"\n",
    "\n",
    "bibentries = load_processed_bibentries_csv(bootstrap_filename, 'utf-8')\n",
    "\n",
    "reports = (process_bibentry(bibentry) for bibentry in bibentries)\n",
    "\n",
    "write_reports_to_csv(reports, \"../../data/bibkey_reflexivity_report.csv\", 'utf-8')"
   ]
  }
 ],
 "metadata": {
  "kernelspec": {
   "display_name": ".venv",
   "language": "python",
   "name": "python3"
  },
  "language_info": {
   "codemirror_mode": {
    "name": "ipython",
    "version": 3
   },
   "file_extension": ".py",
   "mimetype": "text/x-python",
   "name": "python",
   "nbconvert_exporter": "python",
   "pygments_lexer": "ipython3",
   "version": "3.13.0"
  }
 },
 "nbformat": 4,
 "nbformat_minor": 2
}

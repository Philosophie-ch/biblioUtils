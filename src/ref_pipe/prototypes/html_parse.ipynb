{
 "cells": [
  {
   "cell_type": "code",
   "execution_count": 29,
   "metadata": {},
   "outputs": [],
   "source": [
    "from bs4 import BeautifulSoup"
   ]
  },
  {
   "cell_type": "code",
   "execution_count": 30,
   "metadata": {},
   "outputs": [],
   "source": [
    "with open('data/ref-pipe.html', 'r') as f:\n",
    "    html_content = f.read()\n"
   ]
  },
  {
   "cell_type": "code",
   "execution_count": 31,
   "metadata": {},
   "outputs": [],
   "source": [
    "soup = BeautifulSoup(html_content)"
   ]
  },
  {
   "cell_type": "code",
   "execution_count": 32,
   "metadata": {},
   "outputs": [],
   "source": [
    "#soup.find"
   ]
  },
  {
   "cell_type": "code",
   "execution_count": 33,
   "metadata": {},
   "outputs": [
    {
     "name": "stdout",
     "output_type": "stream",
     "text": [
      "<div class=\"csl-entry\" id=\"ref-c1-smith_ba-mulligan:2005\" role=\"listitem\">\n",
      "—. 2005. <span>“<span>Mach si Ehrenfels. Fundamentele teoriei\n",
      "gestaltiste</span>.”</span> in <em><span>Filosofia\n",
      "Austriaca</span></em>, edited by Constantin <span class=\"smallcaps\">Stoenescu</span> and Ion <span class=\"smallcaps\">Tansescu</span>, pp. 262–298. Bucarest: Pelican.\n",
      "</div>\n"
     ]
    }
   ],
   "source": [
    "from bs4 import Tag\n",
    "\n",
    "\n",
    "divs_all = soup.find_all('div')\n",
    "divs = [div for div in divs_all if isinstance(div, Tag)]\n",
    "print(divs[-1])"
   ]
  },
  {
   "cell_type": "code",
   "execution_count": 34,
   "metadata": {},
   "outputs": [
    {
     "data": {
      "text/plain": [
       "'ref-c1-smith_ba-mulligan:2005'"
      ]
     },
     "execution_count": 34,
     "metadata": {},
     "output_type": "execute_result"
    }
   ],
   "source": [
    "divs[-1].get('id')"
   ]
  },
  {
   "cell_type": "code",
   "execution_count": 35,
   "metadata": {},
   "outputs": [],
   "source": [
    "def get_id(div) -> str:\n",
    "    bs_getter = div.get('id')\n",
    "    match bs_getter:\n",
    "        case None:\n",
    "            return \"\"\n",
    "        case _:\n",
    "            return bs_getter.__str__()"
   ]
  },
  {
   "cell_type": "code",
   "execution_count": 36,
   "metadata": {},
   "outputs": [],
   "source": [
    "bib_keys_s = \"mulligan_k:1980,mulligan_k:1981,smith_ba-mulligan:1982,mulligan_k-smith:1983,mulligan_k:1983,mulligan_k:1983a,mulligan_k:1983b,smith_ba-mulligan:1983,mulligan_k-etal:1984,mulligan_k-smith:1984,mulligan_k-rug:1985,mulligan_k-smith:1985,mulligan_k:1985,smith_ba-mulligan:1985,mulligan_k-smith:1986,mulligan_k-smith:1986a,mulligan_k-smith:1986b,mulligan_k:1986,mulligan_k-etal:1987,mulligan_k:1987,mulligan_k:1987a,mulligan_k:1988,mulligan_k:1988a,mulligan_k:1988b,mulligan_k:1988c,smith_ba-mulligan:1988,mulligan_k:1989,mulligan_k-schuhmann:1990,mulligan_k:1990,mulligan_k:1990a,mulligan_k:1990b,mulligan_k:1990c,mulligan_k:1990d,mulligan_k:1990e,mulligan_k:1991,mulligan_k:1991a,mulligan_k:1991b,mulligan_k:1992,garrett_bj-mulligan:1993,leyvraz-mulligan:1993,mulligan_k-roth:1993,mulligan_k:1993,mulligan_k:1993a,mulligan_k:1993b,mulligan_k:1993c,mulligan_k:1995,mulligan_k:1995a,mulligan_k:1995b,mulligan_k:1996,mulligan_k:1997,mulligan_k:1997a,mulligan_k:1997b,mulligan_k:1997c,mulligan_k:1997d,mulligan_k:1997e,mulligan_r-etal:1997,mulligan_k:1998,mulligan_k:1998a,mulligan_k:1999,mulligan_k:1999a,mulligan_k:1999b,mulligan_k:1999c,mulligan_k:2000,mulligan_k:2000a,mulligan_k:2000b,mulligan_k:2000c,baertschi-mulligan:2001,baertschi-mulligan:2001a,cometti-mulligan:2001,mulligan_k:2001,mulligan_k:2001a,mulligan_k:2001b,mulligan_k:2001c,mulligan_k:2001d,mulligan_k:2002,mulligan_k:2002a,mulligan_k:2002b,engel_p-mulligan:2003,mulligan_k:2003,mulligan_k:2003a,mulligan_k:2003b,mulligan_k:2003c,mulligan_k:2003d,mulligan_k:2003e,hochberg-mulligan:2004,mulligan_k:2004,mulligan_k:2004a,mulligan_k:2004b,mulligan_k:2004c,smith_ba-mulligan:2005,mulligan_k-etal:2006,mulligan_k:2006,mulligan_k:2006a,mulligan_k:2006b,mulligan_k:2006c,mulligan_k:2006d,mulligan_k:2006e,mulligan_k:2007,mulligan_k:2007b,mulligan_k:2007c,mulligan_k:2008,mulligan_k:2008a,mulligan_k:2008b,mulligan_k-westerhoff:2009,mulligan_k-westerhoff:2009a,mulligan_k:2009,mulligan_k:2009a,mulligan_k:2009b,mulligan_k:2009c,mulligan_k:2009d,mulligan_k:2009e,mulligan_k:2009f,mulligan_k:2009g,baertschi-mulligan:2010,baertschi-mulligan:2010a,mulligan_k:2010,mulligan_k:2010a,mulligan_k:2010b,mulligan_k-etal:2011,mulligan_k:2011,mulligan_k:2011a,mulligan_k:2011b,mulligan_k-scherer:2012,mulligan_k-scherer:2012a,mulligan_k:2012,gerrans-mulligan:2013,mulligan_k-etal:2013,mulligan_k-etal:2013a,mulligan_k:2013a,mulligan_k:2013c,mulligan_k:2013e,mulligan_k:2013f,mulligan_k:2013g,mulligan_k:2014,mulligan_k:2014a,mulligan_k:2015,mulligan_k:2015a,mulligan_k:2015c,mulligan_k:2015d,mulligan_k:2015e,mulligan_k:2016,mulligan_k:2016a,mulligan_k:2016b,mulligan_k:2016c,cesalli-mulligan:2017,mulligan_k:2017,mulligan_k:2017a,mulligan_k:2017b,mulligan_k:2017c,mulligan_k:2017d,mulligan_k:2017e,mulligan_k:2018,mulligan_k:2019,mulligan_k:2020,massin-mulligan:2021,mulligan_k:2021,mulligan_k:2022,mulligan_k:2013d,mulligan_k-woodruff:unpub,mulligan_k:unpub,mulligan_k:unpub-a\"\n",
    "\n",
    "bib_deps_s = \"amrein:2009,apel_ko-etal:2000,bachmaier_h:1990,besoli-guidetti:2000,bottani-davies:2006,burri_a:1997,calcaterra:2006,centi-gigliotti:2004,cohen_al-stern:2017,coliva-etal:2018,dewalque-etal:2021,doering_s:2009,dupuy_l-etal:2016,engel_p:2000,erismann_ch-schniewind:2008,eschbach:1988,fabian_r:1985,fischer_kr-stadler:1997,fisette_d-rialle:1996,fisette_d:1999,fossheim-etal:2003,frank_m-weidtmann:2010,frechette-taieb:2017,frechette:2015a,gargani:1993,garrett_bj-menzies:1993,goldie_p:2010,hales_sd:2001,hermeren-etal:2013,hintikka_j-etal:2003,hoefer_ul-valent:2017,husserl_e:1984,imaguire-schneider:2006,jacquette:2004,kriegel_u:2017,kuenne_w:2003,landweer-renz:2008,leibnizgesellschaft:1983,lepoidevin-etal:2009,lowe_ej-rami:2009,merker_b:2009,monnoyer:2007,moore_aw:2012,nef-etal:2017,nyiri_jc:1986,ogien_r-paperman:1995,ouelbani:2000,ouelbani:2002,padillagalvez-gaffal:2017,persson_i-etal:2015,philie:2015,plourde_j:2015,primiero-rahman:2009,puntel:1987,pynsent:1989,raven_mj:2020,roski_s-schnieder:2022,roth_ml-boeschenstein:1995,rueff_m-zanetta:2015,saellstroem:1983,salice-schmid:2016,schoenrich:2009,seron:2015a,siebel-textor:2004,smelser-baltes:2001,smith_ba-woodruffsmith:1995,smith_ba:1981a,smith_ba:1982,smith_ba:1988,smith_ba:2003,spohn-etal:1991,stoenescu-tanasescu:2005,svennerlind-etal:2013,szatkowski:2019,textor:2006,textor:2013,wittgensteinsymposium:1980,wittgensteinsymposium:1990a,zaibert:2016\"\n",
    "\n",
    "bib_keys = [s.strip() for s in bib_keys_s.split(',')]\n",
    "bib_deps = [s.strip() for s in bib_deps_s.split(',')]\n",
    "\n",
    "\n"
   ]
  },
  {
   "cell_type": "code",
   "execution_count": 37,
   "metadata": {},
   "outputs": [],
   "source": [
    "divs[0].get('id')"
   ]
  },
  {
   "cell_type": "code",
   "execution_count": 38,
   "metadata": {},
   "outputs": [],
   "source": [
    "#[get_id(div) for div in divs]"
   ]
  },
  {
   "cell_type": "code",
   "execution_count": 39,
   "metadata": {},
   "outputs": [],
   "source": [
    "from typing import List, TypeVar\n",
    "\n",
    "T = TypeVar('T')\n",
    "\n",
    "def flat(nested_list: List[ T | List[T]]) -> List[T]:\n",
    "    return [item for sublist in nested_list for item in (flat(sublist) if isinstance(sublist, list) else [sublist])]"
   ]
  },
  {
   "cell_type": "code",
   "execution_count": 40,
   "metadata": {},
   "outputs": [],
   "source": [
    "sub = [\n",
    "    [\n",
    "    div for div in divs if bib_key in get_id(div)\n",
    "]\n",
    "    for bib_key in bib_keys]"
   ]
  },
  {
   "cell_type": "code",
   "execution_count": 41,
   "metadata": {},
   "outputs": [],
   "source": [
    "sub_flat = [item for sublist in sub for item in sublist]"
   ]
  },
  {
   "cell_type": "code",
   "execution_count": 42,
   "metadata": {},
   "outputs": [],
   "source": [
    "#print(\"\\n\".join([div.__str__() for div in sub_flat]))"
   ]
  },
  {
   "cell_type": "code",
   "execution_count": 43,
   "metadata": {},
   "outputs": [],
   "source": [
    "sub_further = [\n",
    "    [\n",
    "        div for div in divs if bib_dep in get_id(div)\n",
    "    ]\n",
    "        for bib_dep in bib_deps\n",
    "]"
   ]
  },
  {
   "cell_type": "code",
   "execution_count": 44,
   "metadata": {},
   "outputs": [],
   "source": [
    "sub_fur_flat = [item for sublist in sub_further for item in sublist]"
   ]
  },
  {
   "cell_type": "code",
   "execution_count": 45,
   "metadata": {},
   "outputs": [],
   "source": [
    "#print(\"\\n\".join([div.__str__() for div in sub_fur_flat[0]]))"
   ]
  },
  {
   "cell_type": "code",
   "execution_count": null,
   "metadata": {},
   "outputs": [],
   "source": []
  },
  {
   "cell_type": "code",
   "execution_count": null,
   "metadata": {},
   "outputs": [],
   "source": []
  },
  {
   "cell_type": "code",
   "execution_count": 21,
   "metadata": {},
   "outputs": [],
   "source": [
    "from typing import List, Tuple\n",
    "from bs4 import Tag\n",
    "\n",
    "\n",
    "def filter_divs(divs: List[Tag], bibkeys: List[str]) -> Tuple[str, ...]:\n",
    "    # Create a list of tuples containing the div string and its ID\n",
    "    divs_and_ids = [(div.__str__(), runwrap(bs_get_id(div))) for div in divs]\n",
    "\n",
    "    # Filter the divs based on whether their IDs contain any of the bibkeys\n",
    "    filtered_divs = tuple(\n",
    "        div for div, div_id in divs_and_ids if any(bibkey == div_id for bibkey in bibkeys)\n",
    "    )\n",
    "\n",
    "    return filtered_divs\n",
    "\n",
    "\n",
    "def get_bibkey_from_div_id(div_id: str) -> str:\n",
    "    # Placeholder function to get the bibkey from the div ID\n",
    "    return \"-\".join(div_id.split('-')[2:])\n",
    "\n",
    "def bs_get_id(div: Tag) -> str:\n",
    "    \"\"\"\n",
    "    ref-c1-ashby_n:2002\n",
    "    ref-c1-caruso_em-etal:2008\n",
    "    \"\"\"\n",
    "    # Placeholder function to get the ID of a div\n",
    "    identif =  div.get('id', '')\n",
    "    try:\n",
    "        bibkey = get_bibkey_from_div_id(identif)\n",
    "    except IndexError:\n",
    "        raise IndexError(f\"Could not find bibkey in '{identif}'\")\n",
    "\n",
    "    return bibkey\n",
    "\n",
    "\n",
    "def runwrap(result):\n",
    "    # Placeholder function for runwrap\n",
    "    return result\n"
   ]
  },
  {
   "cell_type": "code",
   "execution_count": 22,
   "metadata": {},
   "outputs": [
    {
     "name": "stdout",
     "output_type": "stream",
     "text": [
      "('<div id=\"ref-whatever-BIBKEY1\"></div>', '<div id=\"ref-whatever-BIBKEY2-etal\"></div>')\n"
     ]
    }
   ],
   "source": [
    "# Example divs and bibkeys\n",
    "divs = [\n",
    "    Tag(name='div', attrs={'id': 'ref-whatever-OTHER'}),\n",
    "    Tag(name='div', attrs={'id': 'ref-whatever-BIBKEY1'}),\n",
    "    Tag(name='div', attrs={'id': 'ref-whatever-OTHER'}),\n",
    "    Tag(name='div', attrs={'id': 'ref-whatever-BIBKEY2a'}),\n",
    "    Tag(name='div', attrs={'id': 'ref-whatever-BIBKEY2-etal'}),\n",
    "    Tag(name='div', attrs={'id': 'ref-whatever-OTHER'}),\n",
    "]\n",
    "bibkeys = ['BIBKEY2-etal', 'BIBKEY1']\n",
    "\n",
    "filtered_divs = filter_divs(divs, bibkeys)\n",
    "print(filtered_divs)"
   ]
  },
  {
   "cell_type": "code",
   "execution_count": 20,
   "metadata": {},
   "outputs": [
    {
     "data": {
      "text/plain": [
       "'BIBKEY2etal'"
      ]
     },
     "execution_count": 20,
     "metadata": {},
     "output_type": "execute_result"
    }
   ],
   "source": [
    "get_bibkey_from_div_id(\"ref-whatever-BIBKEY2-etal\")"
   ]
  }
 ],
 "metadata": {
  "kernelspec": {
   "display_name": ".venv",
   "language": "python",
   "name": "python3"
  },
  "language_info": {
   "codemirror_mode": {
    "name": "ipython",
    "version": 3
   },
   "file_extension": ".py",
   "mimetype": "text/x-python",
   "name": "python",
   "nbconvert_exporter": "python",
   "pygments_lexer": "ipython3",
   "version": "3.13.0"
  }
 },
 "nbformat": 4,
 "nbformat_minor": 2
}
